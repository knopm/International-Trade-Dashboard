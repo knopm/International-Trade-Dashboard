{
 "cells": [
  {
   "cell_type": "code",
   "execution_count": 1,
   "id": "eaadba84",
   "metadata": {},
   "outputs": [
    {
     "name": "stdout",
     "output_type": "stream",
     "text": [
      "Requirement already satisfied: comtradeapicall in /Library/Frameworks/Python.framework/Versions/3.13/lib/python3.13/site-packages (1.2.1)\n"
     ]
    }
   ],
   "source": [
    "# Install a pip comtradeapicall package in the current Jupyter kernel\n",
    "import sys\n",
    "!{sys.executable} -m pip install --upgrade comtradeapicall"
   ]
  },
  {
   "cell_type": "code",
   "execution_count": 2,
   "id": "accafe2b",
   "metadata": {},
   "outputs": [
    {
     "name": "stdout",
     "output_type": "stream",
     "text": [
      "Requirement already satisfied: pandas in /Library/Frameworks/Python.framework/Versions/3.13/lib/python3.13/site-packages (2.2.3)\n",
      "Requirement already satisfied: numpy>=1.26.0 in /Library/Frameworks/Python.framework/Versions/3.13/lib/python3.13/site-packages (from pandas) (2.2.4)\n",
      "Requirement already satisfied: python-dateutil>=2.8.2 in /Users/matej/Library/Python/3.13/lib/python/site-packages (from pandas) (2.9.0.post0)\n",
      "Requirement already satisfied: pytz>=2020.1 in /Library/Frameworks/Python.framework/Versions/3.13/lib/python3.13/site-packages (from pandas) (2025.1)\n",
      "Requirement already satisfied: tzdata>=2022.7 in /Library/Frameworks/Python.framework/Versions/3.13/lib/python3.13/site-packages (from pandas) (2025.1)\n",
      "Requirement already satisfied: six>=1.5 in /Users/matej/Library/Python/3.13/lib/python/site-packages (from python-dateutil>=2.8.2->pandas) (1.17.0)\n"
     ]
    }
   ],
   "source": [
    "# Install a pip pandas package in the current Jupyter kernel\n",
    "import sys\n",
    "!{sys.executable} -m pip install pandas"
   ]
  },
  {
   "cell_type": "code",
   "execution_count": 3,
   "id": "784138ce",
   "metadata": {},
   "outputs": [
    {
     "name": "stdout",
     "output_type": "stream",
     "text": [
      "Requirement already satisfied: matplotlib in /Library/Frameworks/Python.framework/Versions/3.13/lib/python3.13/site-packages (3.10.1)\n",
      "Requirement already satisfied: contourpy>=1.0.1 in /Library/Frameworks/Python.framework/Versions/3.13/lib/python3.13/site-packages (from matplotlib) (1.3.1)\n",
      "Requirement already satisfied: cycler>=0.10 in /Library/Frameworks/Python.framework/Versions/3.13/lib/python3.13/site-packages (from matplotlib) (0.12.1)\n",
      "Requirement already satisfied: fonttools>=4.22.0 in /Library/Frameworks/Python.framework/Versions/3.13/lib/python3.13/site-packages (from matplotlib) (4.56.0)\n",
      "Requirement already satisfied: kiwisolver>=1.3.1 in /Library/Frameworks/Python.framework/Versions/3.13/lib/python3.13/site-packages (from matplotlib) (1.4.8)\n",
      "Requirement already satisfied: numpy>=1.23 in /Library/Frameworks/Python.framework/Versions/3.13/lib/python3.13/site-packages (from matplotlib) (2.2.4)\n",
      "Requirement already satisfied: packaging>=20.0 in /Users/matej/Library/Python/3.13/lib/python/site-packages (from matplotlib) (24.2)\n",
      "Requirement already satisfied: pillow>=8 in /Library/Frameworks/Python.framework/Versions/3.13/lib/python3.13/site-packages (from matplotlib) (11.1.0)\n",
      "Requirement already satisfied: pyparsing>=2.3.1 in /Library/Frameworks/Python.framework/Versions/3.13/lib/python3.13/site-packages (from matplotlib) (3.2.1)\n",
      "Requirement already satisfied: python-dateutil>=2.7 in /Users/matej/Library/Python/3.13/lib/python/site-packages (from matplotlib) (2.9.0.post0)\n",
      "Requirement already satisfied: six>=1.5 in /Users/matej/Library/Python/3.13/lib/python/site-packages (from python-dateutil>=2.7->matplotlib) (1.17.0)\n"
     ]
    }
   ],
   "source": [
    "# Install a pip matplotlib package in the current Jupyter kernel\n",
    "import sys\n",
    "!{sys.executable} -m pip install matplotlib"
   ]
  },
  {
   "cell_type": "code",
   "execution_count": 4,
   "id": "1056c37f",
   "metadata": {},
   "outputs": [],
   "source": [
    "import pandas as pd\n",
    "import matplotlib.pyplot as plt\n",
    "import numpy as np\n",
    "import comtradeapicall"
   ]
  },
  {
   "cell_type": "code",
   "execution_count": 5,
   "id": "2b26b9a9",
   "metadata": {},
   "outputs": [],
   "source": [
    "subscription_key = \"b5856aa064474537a609f9c773a9441d\""
   ]
  },
  {
   "attachments": {},
   "cell_type": "markdown",
   "id": "58e10298",
   "metadata": {},
   "source": [
    "This is an experimental-data section. The estimates presented here are provisional, and not official statistics. Please cite these estimates as: Cerdeiro, Komaromi, Liu and Saeed (2020) [https://www.imf.org/en/Publications/WP/Issues/2020/05/14/World-Seaborne-Trade-in-Real-Time-A-Proof-of-Concept-for-Building-AIS-based-Nowcasts-from-49393]; AIS data collected by MarineTraffic; available at UN COMTRADE API. When consuming the data, users should understand its limitation. For a complete description of the methodology, please consult the paper, especially Sections I and VI."
   ]
  },
  {
   "cell_type": "code",
   "execution_count": 6,
   "id": "58fedcea",
   "metadata": {},
   "outputs": [
    {
     "data": {
      "text/html": [
       "<div>\n",
       "<style scoped>\n",
       "    .dataframe tbody tr th:only-of-type {\n",
       "        vertical-align: middle;\n",
       "    }\n",
       "\n",
       "    .dataframe tbody tr th {\n",
       "        vertical-align: top;\n",
       "    }\n",
       "\n",
       "    .dataframe thead th {\n",
       "        text-align: right;\n",
       "    }\n",
       "</style>\n",
       "<table border=\"1\" class=\"dataframe\">\n",
       "  <thead>\n",
       "    <tr style=\"text-align: right;\">\n",
       "      <th></th>\n",
       "      <th>dataItem</th>\n",
       "      <th>description</th>\n",
       "    </tr>\n",
       "  </thead>\n",
       "  <tbody>\n",
       "    <tr>\n",
       "      <th>0</th>\n",
       "      <td>disclaimer</td>\n",
       "      <td>This is an experimental-data section. The esti...</td>\n",
       "    </tr>\n",
       "    <tr>\n",
       "      <th>1</th>\n",
       "      <td>typeCode</td>\n",
       "      <td>Product type: Goods or Services</td>\n",
       "    </tr>\n",
       "    <tr>\n",
       "      <th>2</th>\n",
       "      <td>freqCode</td>\n",
       "      <td>The time interval at which observations occur</td>\n",
       "    </tr>\n",
       "    <tr>\n",
       "      <th>3</th>\n",
       "      <td>date</td>\n",
       "      <td>The date to which the measured observation is ...</td>\n",
       "    </tr>\n",
       "    <tr>\n",
       "      <th>4</th>\n",
       "      <td>countryareaCode</td>\n",
       "      <td>The country or geographic area to which the me...</td>\n",
       "    </tr>\n",
       "    <tr>\n",
       "      <th>5</th>\n",
       "      <td>countryareaDesc</td>\n",
       "      <td>Description of the country or geographic area</td>\n",
       "    </tr>\n",
       "    <tr>\n",
       "      <th>6</th>\n",
       "      <td>vesselTypeCode</td>\n",
       "      <td>The high level categorization of vessels trans...</td>\n",
       "    </tr>\n",
       "    <tr>\n",
       "      <th>7</th>\n",
       "      <td>vesselTypeDescription</td>\n",
       "      <td>Description of vessel types</td>\n",
       "    </tr>\n",
       "    <tr>\n",
       "      <th>8</th>\n",
       "      <td>flowCode</td>\n",
       "      <td>Trade flow (exports/imports)</td>\n",
       "    </tr>\n",
       "    <tr>\n",
       "      <th>9</th>\n",
       "      <td>flowDesc</td>\n",
       "      <td>Description of trade flows</td>\n",
       "    </tr>\n",
       "    <tr>\n",
       "      <th>10</th>\n",
       "      <td>num_pc</td>\n",
       "      <td>Number of port calls</td>\n",
       "    </tr>\n",
       "    <tr>\n",
       "      <th>11</th>\n",
       "      <td>num_pc_ma</td>\n",
       "      <td>30-day moving averages of number of port calls</td>\n",
       "    </tr>\n",
       "    <tr>\n",
       "      <th>12</th>\n",
       "      <td>dwt</td>\n",
       "      <td>Deadweight tonnage</td>\n",
       "    </tr>\n",
       "    <tr>\n",
       "      <th>13</th>\n",
       "      <td>dwt_ma</td>\n",
       "      <td>30-day moving averages of deadweight tonnage</td>\n",
       "    </tr>\n",
       "    <tr>\n",
       "      <th>14</th>\n",
       "      <td>mtc</td>\n",
       "      <td>Metric tons of cargo</td>\n",
       "    </tr>\n",
       "    <tr>\n",
       "      <th>15</th>\n",
       "      <td>mtc_ma</td>\n",
       "      <td>30-day moving averages of metric tons of cargo</td>\n",
       "    </tr>\n",
       "  </tbody>\n",
       "</table>\n",
       "</div>"
      ],
      "text/plain": [
       "                 dataItem                                        description\n",
       "0              disclaimer  This is an experimental-data section. The esti...\n",
       "1                typeCode                    Product type: Goods or Services\n",
       "2                freqCode      The time interval at which observations occur\n",
       "3                    date  The date to which the measured observation is ...\n",
       "4         countryareaCode  The country or geographic area to which the me...\n",
       "5         countryareaDesc      Description of the country or geographic area\n",
       "6          vesselTypeCode  The high level categorization of vessels trans...\n",
       "7   vesselTypeDescription                        Description of vessel types\n",
       "8                flowCode                       Trade flow (exports/imports)\n",
       "9                flowDesc                         Description of trade flows\n",
       "10                 num_pc                               Number of port calls\n",
       "11              num_pc_ma     30-day moving averages of number of port calls\n",
       "12                    dwt                                 Deadweight tonnage\n",
       "13                 dwt_ma       30-day moving averages of deadweight tonnage\n",
       "14                    mtc                               Metric tons of cargo\n",
       "15                 mtc_ma     30-day moving averages of metric tons of cargo"
      ]
     },
     "execution_count": 6,
     "metadata": {},
     "output_type": "execute_result"
    }
   ],
   "source": [
    "#show description of the data variable including disclaimer\n",
    "comtradeapicall.getReference('ais:dataitems')"
   ]
  },
  {
   "cell_type": "code",
   "execution_count": 7,
   "id": "62ac1f34",
   "metadata": {},
   "outputs": [
    {
     "data": {
      "text/html": [
       "<div>\n",
       "<style scoped>\n",
       "    .dataframe tbody tr th:only-of-type {\n",
       "        vertical-align: middle;\n",
       "    }\n",
       "\n",
       "    .dataframe tbody tr th {\n",
       "        vertical-align: top;\n",
       "    }\n",
       "\n",
       "    .dataframe thead th {\n",
       "        text-align: right;\n",
       "    }\n",
       "</style>\n",
       "<table border=\"1\" class=\"dataframe\">\n",
       "  <thead>\n",
       "    <tr style=\"text-align: right;\">\n",
       "      <th></th>\n",
       "      <th>id</th>\n",
       "      <th>text</th>\n",
       "      <th>vesselTypeCode</th>\n",
       "      <th>vesselTypeDesc</th>\n",
       "    </tr>\n",
       "  </thead>\n",
       "  <tbody>\n",
       "    <tr>\n",
       "      <th>0</th>\n",
       "      <td>0</td>\n",
       "      <td>Total</td>\n",
       "      <td>0</td>\n",
       "      <td>Total</td>\n",
       "    </tr>\n",
       "    <tr>\n",
       "      <th>1</th>\n",
       "      <td>1</td>\n",
       "      <td>Bulk</td>\n",
       "      <td>1</td>\n",
       "      <td>Bulk</td>\n",
       "    </tr>\n",
       "    <tr>\n",
       "      <th>2</th>\n",
       "      <td>2</td>\n",
       "      <td>Container/general cargo</td>\n",
       "      <td>2</td>\n",
       "      <td>Container/general cargo</td>\n",
       "    </tr>\n",
       "    <tr>\n",
       "      <th>3</th>\n",
       "      <td>3</td>\n",
       "      <td>Oil/chemicals</td>\n",
       "      <td>3</td>\n",
       "      <td>Oil/chemicals</td>\n",
       "    </tr>\n",
       "    <tr>\n",
       "      <th>4</th>\n",
       "      <td>4</td>\n",
       "      <td>Oil/chemicals bunker/movement</td>\n",
       "      <td>4</td>\n",
       "      <td>Oil/chemicals bunker/movement</td>\n",
       "    </tr>\n",
       "    <tr>\n",
       "      <th>5</th>\n",
       "      <td>5</td>\n",
       "      <td>Vehicles</td>\n",
       "      <td>5</td>\n",
       "      <td>Vehicles</td>\n",
       "    </tr>\n",
       "    <tr>\n",
       "      <th>6</th>\n",
       "      <td>6</td>\n",
       "      <td>LPG/LNG</td>\n",
       "      <td>6</td>\n",
       "      <td>LPG/LNG</td>\n",
       "    </tr>\n",
       "    <tr>\n",
       "      <th>7</th>\n",
       "      <td>7</td>\n",
       "      <td>Foodstuff</td>\n",
       "      <td>7</td>\n",
       "      <td>Foodstuff</td>\n",
       "    </tr>\n",
       "  </tbody>\n",
       "</table>\n",
       "</div>"
      ],
      "text/plain": [
       "   id                           text  vesselTypeCode  \\\n",
       "0   0                          Total               0   \n",
       "1   1                           Bulk               1   \n",
       "2   2        Container/general cargo               2   \n",
       "3   3                  Oil/chemicals               3   \n",
       "4   4  Oil/chemicals bunker/movement               4   \n",
       "5   5                       Vehicles               5   \n",
       "6   6                        LPG/LNG               6   \n",
       "7   7                      Foodstuff               7   \n",
       "\n",
       "                  vesselTypeDesc  \n",
       "0                          Total  \n",
       "1                           Bulk  \n",
       "2        Container/general cargo  \n",
       "3                  Oil/chemicals  \n",
       "4  Oil/chemicals bunker/movement  \n",
       "5                       Vehicles  \n",
       "6                        LPG/LNG  \n",
       "7                      Foodstuff  "
      ]
     },
     "execution_count": 7,
     "metadata": {},
     "output_type": "execute_result"
    }
   ],
   "source": [
    "#get list of vessel types\n",
    "comtradeapicall.getReference('ais:vesseltypes')"
   ]
  },
  {
   "cell_type": "code",
   "execution_count": null,
   "id": "baf7dd69",
   "metadata": {},
   "outputs": [
    {
     "data": {
      "text/plain": [
       "246"
      ]
     },
     "execution_count": 28,
     "metadata": {},
     "output_type": "execute_result"
    }
   ],
   "source": [
    "country_df = pd.read_csv(\"data/country_codes_V202501.csv\")\n",
    "\n",
    "# Normalize names to lowercase\n",
    "country_df['country_name'] = country_df['country_name'].str.lower()\n",
    "\n",
    "def get_country_code(name):\n",
    "    name = name.lower().strip()\n",
    "    match = country_df[country_df['country_name'] == name]\n",
    "    if not match.empty:\n",
    "        return int(match['country_code'].values[0])\n",
    "    else:\n",
    "        suggested_names = country_df[country_df['country_name'].str[:3] == name[:3]]\n",
    "        if not suggested_names.empty:\n",
    "            suggestions = ', '.join(suggested_names['country_name'].values)\n",
    "            raise ValueError(f\"Country '{name}' not found. Did you mean: {suggestions}?\")\n",
    "        else:\n",
    "            raise ValueError(f\"Country '{name}' not found in country codes.\")\n",
    "\n"
   ]
  },
  {
   "cell_type": "code",
   "execution_count": 37,
   "id": "92fa1e44",
   "metadata": {},
   "outputs": [],
   "source": [
    "# Get number of port calls and trade volume estimates derrived from AIS data for Ukraine in 2020-2023 with vessel types DRY BULK.\n",
    "df_aistrade = comtradeapicall.getAIS(subscription_key, countryareaCode=get_country_code('portugal'), vesselTypeCode='1', dateFrom='2020-01-01', dateTo='2023-12-31')"
   ]
  },
  {
   "cell_type": "code",
   "execution_count": 38,
   "id": "84685e71",
   "metadata": {},
   "outputs": [
    {
     "data": {
      "text/html": [
       "<div>\n",
       "<style scoped>\n",
       "    .dataframe tbody tr th:only-of-type {\n",
       "        vertical-align: middle;\n",
       "    }\n",
       "\n",
       "    .dataframe tbody tr th {\n",
       "        vertical-align: top;\n",
       "    }\n",
       "\n",
       "    .dataframe thead th {\n",
       "        text-align: right;\n",
       "    }\n",
       "</style>\n",
       "<table border=\"1\" class=\"dataframe\">\n",
       "  <thead>\n",
       "    <tr style=\"text-align: right;\">\n",
       "      <th></th>\n",
       "      <th>typeCode</th>\n",
       "      <th>freqCode</th>\n",
       "      <th>countryareaCode</th>\n",
       "      <th>countryareaDesc</th>\n",
       "      <th>vesselTypeCode</th>\n",
       "      <th>vesselTypeDesc</th>\n",
       "      <th>flowCode</th>\n",
       "      <th>flowDesc</th>\n",
       "      <th>date</th>\n",
       "      <th>num_pc</th>\n",
       "      <th>mtc</th>\n",
       "      <th>dwt</th>\n",
       "      <th>num_pc_ma</th>\n",
       "      <th>mtc_ma</th>\n",
       "      <th>dwt_ma</th>\n",
       "    </tr>\n",
       "  </thead>\n",
       "  <tbody>\n",
       "    <tr>\n",
       "      <th>0</th>\n",
       "      <td>C</td>\n",
       "      <td>D</td>\n",
       "      <td>620</td>\n",
       "      <td>Portugal</td>\n",
       "      <td>1</td>\n",
       "      <td>Bulk</td>\n",
       "      <td>M</td>\n",
       "      <td>Imports</td>\n",
       "      <td>2020-01-01T00:00:00</td>\n",
       "      <td>1.0</td>\n",
       "      <td>0.0</td>\n",
       "      <td>27174.0</td>\n",
       "      <td>0.833</td>\n",
       "      <td>7580.012</td>\n",
       "      <td>31664.900</td>\n",
       "    </tr>\n",
       "    <tr>\n",
       "      <th>1</th>\n",
       "      <td>C</td>\n",
       "      <td>D</td>\n",
       "      <td>620</td>\n",
       "      <td>Portugal</td>\n",
       "      <td>1</td>\n",
       "      <td>Bulk</td>\n",
       "      <td>M</td>\n",
       "      <td>Imports</td>\n",
       "      <td>2020-01-02T00:00:00</td>\n",
       "      <td>3.0</td>\n",
       "      <td>54232.2</td>\n",
       "      <td>99082.0</td>\n",
       "      <td>0.933</td>\n",
       "      <td>9387.754</td>\n",
       "      <td>34967.633</td>\n",
       "    </tr>\n",
       "    <tr>\n",
       "      <th>2</th>\n",
       "      <td>C</td>\n",
       "      <td>D</td>\n",
       "      <td>620</td>\n",
       "      <td>Portugal</td>\n",
       "      <td>1</td>\n",
       "      <td>Bulk</td>\n",
       "      <td>M</td>\n",
       "      <td>Imports</td>\n",
       "      <td>2020-01-03T00:00:00</td>\n",
       "      <td>0.0</td>\n",
       "      <td>0.0</td>\n",
       "      <td>0.0</td>\n",
       "      <td>0.900</td>\n",
       "      <td>9342.483</td>\n",
       "      <td>33076.467</td>\n",
       "    </tr>\n",
       "    <tr>\n",
       "      <th>3</th>\n",
       "      <td>C</td>\n",
       "      <td>D</td>\n",
       "      <td>620</td>\n",
       "      <td>Portugal</td>\n",
       "      <td>1</td>\n",
       "      <td>Bulk</td>\n",
       "      <td>M</td>\n",
       "      <td>Imports</td>\n",
       "      <td>2020-01-04T00:00:00</td>\n",
       "      <td>0.0</td>\n",
       "      <td>0.0</td>\n",
       "      <td>0.0</td>\n",
       "      <td>0.867</td>\n",
       "      <td>7822.439</td>\n",
       "      <td>31277.167</td>\n",
       "    </tr>\n",
       "    <tr>\n",
       "      <th>4</th>\n",
       "      <td>C</td>\n",
       "      <td>D</td>\n",
       "      <td>620</td>\n",
       "      <td>Portugal</td>\n",
       "      <td>1</td>\n",
       "      <td>Bulk</td>\n",
       "      <td>M</td>\n",
       "      <td>Imports</td>\n",
       "      <td>2020-01-05T00:00:00</td>\n",
       "      <td>0.0</td>\n",
       "      <td>0.0</td>\n",
       "      <td>0.0</td>\n",
       "      <td>0.867</td>\n",
       "      <td>7822.439</td>\n",
       "      <td>31277.167</td>\n",
       "    </tr>\n",
       "  </tbody>\n",
       "</table>\n",
       "</div>"
      ],
      "text/plain": [
       "  typeCode freqCode  countryareaCode countryareaDesc  vesselTypeCode  \\\n",
       "0        C        D              620        Portugal               1   \n",
       "1        C        D              620        Portugal               1   \n",
       "2        C        D              620        Portugal               1   \n",
       "3        C        D              620        Portugal               1   \n",
       "4        C        D              620        Portugal               1   \n",
       "\n",
       "  vesselTypeDesc flowCode flowDesc                 date  num_pc      mtc  \\\n",
       "0           Bulk        M  Imports  2020-01-01T00:00:00     1.0      0.0   \n",
       "1           Bulk        M  Imports  2020-01-02T00:00:00     3.0  54232.2   \n",
       "2           Bulk        M  Imports  2020-01-03T00:00:00     0.0      0.0   \n",
       "3           Bulk        M  Imports  2020-01-04T00:00:00     0.0      0.0   \n",
       "4           Bulk        M  Imports  2020-01-05T00:00:00     0.0      0.0   \n",
       "\n",
       "       dwt  num_pc_ma    mtc_ma     dwt_ma  \n",
       "0  27174.0      0.833  7580.012  31664.900  \n",
       "1  99082.0      0.933  9387.754  34967.633  \n",
       "2      0.0      0.900  9342.483  33076.467  \n",
       "3      0.0      0.867  7822.439  31277.167  \n",
       "4      0.0      0.867  7822.439  31277.167  "
      ]
     },
     "execution_count": 38,
     "metadata": {},
     "output_type": "execute_result"
    }
   ],
   "source": [
    "df_aistrade.head(5)"
   ]
  },
  {
   "cell_type": "code",
   "execution_count": 39,
   "id": "94338b1e",
   "metadata": {},
   "outputs": [
    {
     "data": {
      "text/plain": [
       "Text(0.5, 1.0, 'Trade Volume Distribution')"
      ]
     },
     "execution_count": 39,
     "metadata": {},
     "output_type": "execute_result"
    },
    {
     "data": {
      "image/png": "[encoded data removed]",
      "text/plain": [
       "<Figure size 640x480 with 1 Axes>"
      ]
     },
     "metadata": {},
     "output_type": "display_data"
    }
   ],
   "source": [
    "# plot the mtc (trade volume in metric tons) histogram - in log scale\n",
    "df_aistrade.hist(\"mtc\", log=True);\n",
    "plt.xlabel('(log) metric tons')\n",
    "plt.ylabel('Total seaborne trade')\n",
    "plt.title('Trade Volume Distribution')"
   ]
  },
  {
   "cell_type": "code",
   "execution_count": 40,
   "id": "a00ecadb",
   "metadata": {},
   "outputs": [],
   "source": [
    "#change to date format, and add year_month column\n",
    "df_aistrade[\"date\"] = pd.to_datetime(df_aistrade[\"date\"]) # Convert Date column to datetime format\n",
    "df_aistrade[\"year_month\"] = df_aistrade[\"date\"].dt.to_period(\"M\")\n",
    "df_aistrade[\"month\"] = df_aistrade[\"date\"].dt.strftime('%m') + '(' + df_aistrade[\"date\"].dt.strftime('%b') +')'\n",
    "df_aistrade[\"year\"] = df_aistrade[\"date\"].dt.year"
   ]
  },
  {
   "cell_type": "code",
   "execution_count": 41,
   "id": "b3b18b01",
   "metadata": {},
   "outputs": [],
   "source": [
    "#preparing for plotting\n",
    "df_aistrade_group = df_aistrade.groupby(['year', 'month']).agg({'mtc': ['sum', 'min', 'max']})\n",
    "df_aistrade_group.columns = ['mtc_sum', 'mtc_min', 'mtc_max']\n",
    "df_aistrade_group = df_aistrade_group.reset_index()\n",
    "df_aistrade_pivot = df_aistrade_group.pivot(index='month', columns='year')['mtc_sum']"
   ]
  },
  {
   "cell_type": "code",
   "execution_count": 47,
   "id": "8334ff5a",
   "metadata": {},
   "outputs": [
    {
     "data": {
      "text/plain": [
       "Text(0.5, 0, 'Month')"
      ]
     },
     "execution_count": 47,
     "metadata": {},
     "output_type": "execute_result"
    },
    {
     "data": {
      "image/png": "[encoded data removed]",
      "text/plain": [
       "<Figure size 640x480 with 1 Axes>"
      ]
     },
     "metadata": {},
     "output_type": "display_data"
    }
   ],
   "source": [
    "#plot the data to show year-to-year trade volume in Ukraine\n",
    "df_aistrade_pivot.plot()\n",
    "plt.title(f'Trade Volume Estimates {df_aistrade[\"countryareaDesc\"][1]} - Bulk Dry (2020-2023)')\n",
    "plt.ylabel('metric tons (mtc)')\n",
    "plt.xlabel('Month')"
   ]
  }
 ],
 "metadata": {
  "kernelspec": {
   "display_name": "Python 3",
   "language": "python",
   "name": "python3"
  },
  "language_info": {
   "codemirror_mode": {
    "name": "ipython",
    "version": 3
   },
   "file_extension": ".py",
   "mimetype": "text/x-python",
   "name": "python",
   "nbconvert_exporter": "python",
   "pygments_lexer": "ipython3",
   "version": "3.13.0"
  }
 },
 "nbformat": 4,
 "nbformat_minor": 5
}
